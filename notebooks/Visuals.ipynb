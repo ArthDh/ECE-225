{
 "cells": [
  {
   "cell_type": "code",
   "execution_count": null,
   "outputs": [],
   "source": [
    "import os\n",
    "import numpy as np\n",
    "import pandas as pd\n",
    "from pathlib import Path\n",
    "import matplotlib.pyplot as plt\n",
    "import geopandas as geo\n",
    "import ipywidgets as widgets\n",
    "from IPython.display import display\n",
    "from mpl_toolkits.axes_grid1 import make_axes_locatable\n",
    "\n",
    "%matplotlib inline"
   ],
   "metadata": {
    "collapsed": false,
    "pycharm": {
     "name": "#%%\n"
    }
   }
  },
  {
   "cell_type": "markdown",
   "source": [
    "Import Dataset"
   ],
   "metadata": {
    "collapsed": false
   }
  },
  {
   "cell_type": "code",
   "execution_count": null,
   "outputs": [],
   "source": [
    "root = 'C:/Users/Aaron/PycharmProjects/ECE-225'\n",
    "data_path = Path(root + '/data/output.csv')\n",
    "df = pd.read_csv(data_path)"
   ],
   "metadata": {
    "collapsed": false,
    "pycharm": {
     "name": "#%%\n"
    }
   }
  },
  {
   "cell_type": "markdown",
   "metadata": {
    "collapsed": true,
    "pycharm": {
     "name": "#%% md\n"
    }
   },
   "source": [
    "#### Import .shp file data for counties"
   ]
  },
  {
   "cell_type": "code",
   "execution_count": null,
   "outputs": [],
   "source": [
    "shp_counties = Path(root + \"/data/UScounties/uscounties.shp\")\n",
    "\n",
    "c_map = geo.read_file(shp_counties)\n",
    "c_map = c_map[c_map.STATE_NAME != 'Alaska']\n",
    "c_map = c_map[c_map.STATE_NAME != 'Hawaii']\n",
    "c_map.rename(columns={'NAME':'County', 'STATE_NAME':'State'}, inplace=True)\n",
    "\n",
    "df.County.convert_dtypes()\n",
    "c_map.County.convert_dtypes()\n"
   ],
   "metadata": {
    "collapsed": false,
    "pycharm": {
     "name": "#%%\n"
    }
   }
  },
  {
   "cell_type": "code",
   "execution_count": null,
   "outputs": [],
   "source": [
    "c_map.head()"
   ],
   "metadata": {
    "collapsed": false,
    "pycharm": {
     "name": "#%%\n"
    }
   }
  },
  {
   "cell_type": "markdown",
   "source": [
    "### Merge data with shp to gain geo poly"
   ],
   "metadata": {
    "collapsed": false
   }
  },
  {
   "cell_type": "code",
   "execution_count": null,
   "outputs": [],
   "source": [
    "# Clean Data and Merge\n",
    "df['County'] = df.County.str.replace('County', '')\n",
    "# df.insert(5, \"geometry\", 0, True)\n",
    "#\n",
    "# for i in range(len(df.County)):\n",
    "#     dcounty = df.iloc[i].at['County']\n",
    "#     dstate = df.iloc[i].at['State']\n",
    "#     df.iloc[i].at['geometry'] = c_map.iloc[(c_map['County'] == dcounty) & (c_map['State'] == dstate)].at['geometry']\n",
    "\n",
    "df1 = df[['County', 'State']]\n",
    "df2 = c_map[['County','State','geometry']]\n",
    "m = pd.merge(df1, df2, how='right',indicator=True)\n",
    "geodata = geo.geodataframe.GeoDataFrame(m, geometry=m.geometry)\n",
    "m.head(10)"
   ],
   "metadata": {
    "collapsed": false,
    "pycharm": {
     "name": "#%%\n"
    }
   }
  },
  {
   "cell_type": "code",
   "execution_count": null,
   "outputs": [],
   "source": [
    "df['County'].value_counts().head(10)"
   ],
   "metadata": {
    "collapsed": false,
    "pycharm": {
     "name": "#%%\n"
    }
   }
  },
  {
   "cell_type": "code",
   "execution_count": null,
   "outputs": [],
   "source": [
    "# c_map.sort_values(by='County', inplace=True)\n",
    "test = c_map.drop(columns='geometry')\n",
    "# test.head()\n",
    "test.sort_values(by='County', inplace=True)\n",
    "test.value_counts().head(10)\n",
    "# test = c_map['counts'] = c_map['County'].map(df['County'].value_counts())\n",
    "# test.head(10)"
   ],
   "metadata": {
    "collapsed": false,
    "pycharm": {
     "name": "#%%\n"
    }
   }
  },
  {
   "cell_type": "code",
   "execution_count": null,
   "outputs": [],
   "source": [
    "print(np.array(df['County'].unique()).shape)\n",
    "print(np.array(c_map['County'].unique()).shape)\n",
    "print(geodata.shape)\n",
    "print(df.shape)\n",
    "print(m.shape)"
   ],
   "metadata": {
    "collapsed": false,
    "pycharm": {
     "name": "#%%\n"
    }
   }
  },
  {
   "cell_type": "markdown",
   "source": [
    "### Plot with Slider"
   ],
   "metadata": {
    "collapsed": false
   }
  },
  {
   "cell_type": "code",
   "execution_count": null,
   "outputs": [],
   "source": [
    "months = [\"January\", \"February\", \"March\",\"April\", \"May\", \"June\", \"July\", \"August\",\"September\", \"October\",\"November\" , \"December\" ]\n",
    "def plotmap(y, m):\n",
    "    fig, ax = plt.subplots(1, figsize=(12,12))\n",
    "    div = make_axes_locatable(ax)\n",
    "    cax = div.append_axes(\"right\", size=\"5%\", pad=0.1)\n",
    "    c_map.boundary.plot(ax=ax)\n",
    "    newdata = geodata[(geodata['Year'] == y) & (geodata['Month'] == m)]\n",
    "    newdata.plot(column='Rate',ax=ax, legend=True, cax=cax)\n",
    "    display(newdata.shape)\n",
    "year_s = widgets.IntSlider(min=np.min(df.Year), max=np.max(df.Year), description=\"Year\")\n",
    "mon_s = widgets.Dropdown(options=months, description=\"Month\", value=\"January\")\n",
    "widgets.interact(plotmap, y=year_s, m=mon_s)"
   ],
   "metadata": {
    "collapsed": false,
    "pycharm": {
     "name": "#%%\n"
    }
   }
  }
 ],
 "metadata": {
  "kernelspec": {
   "display_name": "Python 3",
   "language": "python",
   "name": "python3"
  },
  "language_info": {
   "codemirror_mode": {
    "name": "ipython",
    "version": 2
   },
   "file_extension": ".py",
   "mimetype": "text/x-python",
   "name": "python",
   "nbconvert_exporter": "python",
   "pygments_lexer": "ipython2",
   "version": "2.7.6"
  }
 },
 "nbformat": 4,
 "nbformat_minor": 0
}