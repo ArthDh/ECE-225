{
 "cells": [
  {
   "cell_type": "code",
   "execution_count": 1,
   "metadata": {
    "pycharm": {
     "name": "#%%\n"
    }
   },
   "outputs": [],
   "source": [
    "import os\n",
    "# import mapclassify\n",
    "import numpy as np\n",
    "import pandas as pd\n",
    "from pathlib import Path\n",
    "import matplotlib.pyplot as plt\n",
    "import geopandas as geo\n",
    "import ipywidgets as widgets\n",
    "from IPython.display import display\n",
    "from mpl_toolkits.axes_grid1 import make_axes_locatable\n",
    "from datetime import datetime\n",
    "\n",
    "%matplotlib inline"
   ]
  },
  {
   "cell_type": "markdown",
   "metadata": {},
   "source": [
    "#### Import Dataset"
   ]
  },
  {
   "cell_type": "code",
   "execution_count": 2,
   "metadata": {
    "pycharm": {
     "name": "#%%\n"
    }
   },
   "outputs": [
    {
     "name": "stdout",
     "output_type": "stream",
     "text": [
      "Rate Max: 58.4\n",
      "Rate Min.: 0.0\n",
      "Rate Mean: 6.175009711500675\n",
      "Rate Std.: 3.112534815614922\n"
     ]
    }
   ],
   "source": [
    "root = 'C:/Users/Aaron/PycharmProjects/ECE-225'\n",
    "data_path = Path(root + '/data/output.csv')\n",
    "df = pd.read_csv(data_path)\n",
    "print('Rate Max: ' + str(df.loc[:,'Rate'].max()))\n",
    "print('Rate Min.: ' + str(df.loc[:,'Rate'].min()))\n",
    "print('Rate Mean: ' + str(df.loc[:,'Rate'].mean()))\n",
    "print('Rate Std.: ' + str(df.loc[:,'Rate'].std()))   \n",
    "\n",
    "# df.loc[:,'Rate'] = ((df.loc[:,'Rate']-df.loc[:,'Rate'].mean())/df.loc[:,'Rate'].std())"
   ]
  },
  {
   "cell_type": "code",
   "execution_count": 3,
   "metadata": {},
   "outputs": [],
   "source": [
    "df['Date'] = df.apply(lambda x: x.Month+' '+str(x.Year), axis=1)\n",
    "df.Date = pd.to_datetime(df.Date)"
   ]
  },
  {
   "cell_type": "code",
   "execution_count": 4,
   "metadata": {},
   "outputs": [],
   "source": [
    "df.drop(columns=['Year', 'Month'], inplace=True)"
   ]
  },
  {
   "cell_type": "code",
   "execution_count": 5,
   "metadata": {
    "pycharm": {
     "name": "#%%\n"
    }
   },
   "outputs": [
    {
     "data": {
      "text/html": [
       "<div>\n",
       "<style scoped>\n",
       "    .dataframe tbody tr th:only-of-type {\n",
       "        vertical-align: middle;\n",
       "    }\n",
       "\n",
       "    .dataframe tbody tr th {\n",
       "        vertical-align: top;\n",
       "    }\n",
       "\n",
       "    .dataframe thead th {\n",
       "        text-align: right;\n",
       "    }\n",
       "</style>\n",
       "<table border=\"1\" class=\"dataframe\">\n",
       "  <thead>\n",
       "    <tr style=\"text-align: right;\">\n",
       "      <th></th>\n",
       "      <th>State</th>\n",
       "      <th>County</th>\n",
       "      <th>Rate</th>\n",
       "      <th>Date</th>\n",
       "    </tr>\n",
       "  </thead>\n",
       "  <tbody>\n",
       "    <tr>\n",
       "      <th>0</th>\n",
       "      <td>Mississippi</td>\n",
       "      <td>Newton County</td>\n",
       "      <td>6.1</td>\n",
       "      <td>2015-02-01</td>\n",
       "    </tr>\n",
       "    <tr>\n",
       "      <th>1</th>\n",
       "      <td>Mississippi</td>\n",
       "      <td>Panola County</td>\n",
       "      <td>9.4</td>\n",
       "      <td>2015-02-01</td>\n",
       "    </tr>\n",
       "    <tr>\n",
       "      <th>2</th>\n",
       "      <td>Mississippi</td>\n",
       "      <td>Monroe County</td>\n",
       "      <td>7.9</td>\n",
       "      <td>2015-02-01</td>\n",
       "    </tr>\n",
       "    <tr>\n",
       "      <th>3</th>\n",
       "      <td>Mississippi</td>\n",
       "      <td>Hinds County</td>\n",
       "      <td>6.1</td>\n",
       "      <td>2015-02-01</td>\n",
       "    </tr>\n",
       "    <tr>\n",
       "      <th>4</th>\n",
       "      <td>Mississippi</td>\n",
       "      <td>Kemper County</td>\n",
       "      <td>10.6</td>\n",
       "      <td>2015-02-01</td>\n",
       "    </tr>\n",
       "  </tbody>\n",
       "</table>\n",
       "</div>"
      ],
      "text/plain": [
       "         State         County  Rate       Date\n",
       "0  Mississippi  Newton County   6.1 2015-02-01\n",
       "1  Mississippi  Panola County   9.4 2015-02-01\n",
       "2  Mississippi  Monroe County   7.9 2015-02-01\n",
       "3  Mississippi   Hinds County   6.1 2015-02-01\n",
       "4  Mississippi  Kemper County  10.6 2015-02-01"
      ]
     },
     "execution_count": 5,
     "metadata": {},
     "output_type": "execute_result"
    }
   ],
   "source": [
    "df.head()"
   ]
  },
  {
   "cell_type": "markdown",
   "metadata": {
    "pycharm": {
     "name": "#%% md\n"
    }
   },
   "source": [
    "#### Import .shp file data for counties"
   ]
  },
  {
   "cell_type": "code",
   "execution_count": 6,
   "metadata": {
    "pycharm": {
     "name": "#%%\n"
    }
   },
   "outputs": [
    {
     "data": {
      "text/html": [
       "<div>\n",
       "<style scoped>\n",
       "    .dataframe tbody tr th:only-of-type {\n",
       "        vertical-align: middle;\n",
       "    }\n",
       "\n",
       "    .dataframe tbody tr th {\n",
       "        vertical-align: top;\n",
       "    }\n",
       "\n",
       "    .dataframe thead th {\n",
       "        text-align: right;\n",
       "    }\n",
       "</style>\n",
       "<table border=\"1\" class=\"dataframe\">\n",
       "  <thead>\n",
       "    <tr style=\"text-align: right;\">\n",
       "      <th></th>\n",
       "      <th>County</th>\n",
       "      <th>State</th>\n",
       "      <th>geometry</th>\n",
       "    </tr>\n",
       "  </thead>\n",
       "  <tbody>\n",
       "    <tr>\n",
       "      <th>0</th>\n",
       "      <td>Lake of the Woods</td>\n",
       "      <td>Minnesota</td>\n",
       "      <td>POLYGON ((-95.34283 48.54668, -95.34105 48.715...</td>\n",
       "    </tr>\n",
       "    <tr>\n",
       "      <th>1</th>\n",
       "      <td>Ferry</td>\n",
       "      <td>Washington</td>\n",
       "      <td>POLYGON ((-118.85163 47.94956, -118.84846 48.4...</td>\n",
       "    </tr>\n",
       "    <tr>\n",
       "      <th>2</th>\n",
       "      <td>Stevens</td>\n",
       "      <td>Washington</td>\n",
       "      <td>POLYGON ((-117.43883 48.04412, -117.54219 48.0...</td>\n",
       "    </tr>\n",
       "    <tr>\n",
       "      <th>3</th>\n",
       "      <td>Okanogan</td>\n",
       "      <td>Washington</td>\n",
       "      <td>POLYGON ((-118.97209 47.93915, -118.97406 47.9...</td>\n",
       "    </tr>\n",
       "    <tr>\n",
       "      <th>4</th>\n",
       "      <td>Pend Oreille</td>\n",
       "      <td>Washington</td>\n",
       "      <td>POLYGON ((-117.43858 48.99992, -117.03205 48.9...</td>\n",
       "    </tr>\n",
       "    <tr>\n",
       "      <th>...</th>\n",
       "      <td>...</td>\n",
       "      <td>...</td>\n",
       "      <td>...</td>\n",
       "    </tr>\n",
       "    <tr>\n",
       "      <th>3104</th>\n",
       "      <td>LaGrange</td>\n",
       "      <td>Indiana</td>\n",
       "      <td>POLYGON ((-85.66327 41.53557, -85.65946 41.762...</td>\n",
       "    </tr>\n",
       "    <tr>\n",
       "      <th>3105</th>\n",
       "      <td>Steuben</td>\n",
       "      <td>Indiana</td>\n",
       "      <td>POLYGON ((-84.79137 41.53049, -85.19715 41.537...</td>\n",
       "    </tr>\n",
       "    <tr>\n",
       "      <th>3132</th>\n",
       "      <td>Pittsylvania</td>\n",
       "      <td>Virginia</td>\n",
       "      <td>POLYGON ((-79.71720 36.54803, -79.64135 36.846...</td>\n",
       "    </tr>\n",
       "    <tr>\n",
       "      <th>3133</th>\n",
       "      <td>Danville</td>\n",
       "      <td>Virginia</td>\n",
       "      <td>POLYGON ((-79.51977 36.59777, -79.50138 36.621...</td>\n",
       "    </tr>\n",
       "    <tr>\n",
       "      <th>3140</th>\n",
       "      <td>Broomfield</td>\n",
       "      <td>Colorado</td>\n",
       "      <td>POLYGON ((-105.05201 39.99761, -104.99139 40.0...</td>\n",
       "    </tr>\n",
       "  </tbody>\n",
       "</table>\n",
       "<p>3109 rows × 3 columns</p>\n",
       "</div>"
      ],
      "text/plain": [
       "                 County       State  \\\n",
       "0     Lake of the Woods   Minnesota   \n",
       "1                 Ferry  Washington   \n",
       "2               Stevens  Washington   \n",
       "3              Okanogan  Washington   \n",
       "4          Pend Oreille  Washington   \n",
       "...                 ...         ...   \n",
       "3104           LaGrange     Indiana   \n",
       "3105            Steuben     Indiana   \n",
       "3132       Pittsylvania    Virginia   \n",
       "3133           Danville    Virginia   \n",
       "3140         Broomfield    Colorado   \n",
       "\n",
       "                                               geometry  \n",
       "0     POLYGON ((-95.34283 48.54668, -95.34105 48.715...  \n",
       "1     POLYGON ((-118.85163 47.94956, -118.84846 48.4...  \n",
       "2     POLYGON ((-117.43883 48.04412, -117.54219 48.0...  \n",
       "3     POLYGON ((-118.97209 47.93915, -118.97406 47.9...  \n",
       "4     POLYGON ((-117.43858 48.99992, -117.03205 48.9...  \n",
       "...                                                 ...  \n",
       "3104  POLYGON ((-85.66327 41.53557, -85.65946 41.762...  \n",
       "3105  POLYGON ((-84.79137 41.53049, -85.19715 41.537...  \n",
       "3132  POLYGON ((-79.71720 36.54803, -79.64135 36.846...  \n",
       "3133  POLYGON ((-79.51977 36.59777, -79.50138 36.621...  \n",
       "3140  POLYGON ((-105.05201 39.99761, -104.99139 40.0...  \n",
       "\n",
       "[3109 rows x 3 columns]"
      ]
     },
     "execution_count": 6,
     "metadata": {},
     "output_type": "execute_result"
    }
   ],
   "source": [
    "shp_counties = Path(root + \"/data/UScounties/uscounties.shp\")\n",
    "\n",
    "c_map = geo.read_file(shp_counties)\n",
    "c_map = c_map[c_map.STATE_NAME != 'Alaska']\n",
    "c_map = c_map[c_map.STATE_NAME != 'Hawaii']\n",
    "c_map.rename(columns={'NAME':'County', 'STATE_NAME':'State'}, inplace=True)\n",
    "c_map.drop(columns=['STATE_FIPS', 'CNTY_FIPS', 'FIPS'], inplace=True)\n",
    "\n",
    "df.convert_dtypes()\n",
    "c_map.convert_dtypes()\n"
   ]
  },
  {
   "cell_type": "code",
   "execution_count": 7,
   "metadata": {
    "pycharm": {
     "name": "#%%\n"
    }
   },
   "outputs": [
    {
     "data": {
      "text/html": [
       "<div>\n",
       "<style scoped>\n",
       "    .dataframe tbody tr th:only-of-type {\n",
       "        vertical-align: middle;\n",
       "    }\n",
       "\n",
       "    .dataframe tbody tr th {\n",
       "        vertical-align: top;\n",
       "    }\n",
       "\n",
       "    .dataframe thead th {\n",
       "        text-align: right;\n",
       "    }\n",
       "</style>\n",
       "<table border=\"1\" class=\"dataframe\">\n",
       "  <thead>\n",
       "    <tr style=\"text-align: right;\">\n",
       "      <th></th>\n",
       "      <th>County</th>\n",
       "      <th>State</th>\n",
       "      <th>geometry</th>\n",
       "    </tr>\n",
       "  </thead>\n",
       "  <tbody>\n",
       "    <tr>\n",
       "      <th>0</th>\n",
       "      <td>Lake of the Woods</td>\n",
       "      <td>Minnesota</td>\n",
       "      <td>POLYGON ((-95.34283 48.54668, -95.34105 48.715...</td>\n",
       "    </tr>\n",
       "    <tr>\n",
       "      <th>1</th>\n",
       "      <td>Ferry</td>\n",
       "      <td>Washington</td>\n",
       "      <td>POLYGON ((-118.85163 47.94956, -118.84846 48.4...</td>\n",
       "    </tr>\n",
       "    <tr>\n",
       "      <th>2</th>\n",
       "      <td>Stevens</td>\n",
       "      <td>Washington</td>\n",
       "      <td>POLYGON ((-117.43883 48.04412, -117.54219 48.0...</td>\n",
       "    </tr>\n",
       "    <tr>\n",
       "      <th>3</th>\n",
       "      <td>Okanogan</td>\n",
       "      <td>Washington</td>\n",
       "      <td>POLYGON ((-118.97209 47.93915, -118.97406 47.9...</td>\n",
       "    </tr>\n",
       "    <tr>\n",
       "      <th>4</th>\n",
       "      <td>Pend Oreille</td>\n",
       "      <td>Washington</td>\n",
       "      <td>POLYGON ((-117.43858 48.99992, -117.03205 48.9...</td>\n",
       "    </tr>\n",
       "  </tbody>\n",
       "</table>\n",
       "</div>"
      ],
      "text/plain": [
       "              County       State  \\\n",
       "0  Lake of the Woods   Minnesota   \n",
       "1              Ferry  Washington   \n",
       "2            Stevens  Washington   \n",
       "3           Okanogan  Washington   \n",
       "4       Pend Oreille  Washington   \n",
       "\n",
       "                                            geometry  \n",
       "0  POLYGON ((-95.34283 48.54668, -95.34105 48.715...  \n",
       "1  POLYGON ((-118.85163 47.94956, -118.84846 48.4...  \n",
       "2  POLYGON ((-117.43883 48.04412, -117.54219 48.0...  \n",
       "3  POLYGON ((-118.97209 47.93915, -118.97406 47.9...  \n",
       "4  POLYGON ((-117.43858 48.99992, -117.03205 48.9...  "
      ]
     },
     "execution_count": 7,
     "metadata": {},
     "output_type": "execute_result"
    }
   ],
   "source": [
    "c_map.head()"
   ]
  },
  {
   "cell_type": "code",
   "execution_count": 8,
   "metadata": {
    "pycharm": {
     "name": "#%%\n"
    }
   },
   "outputs": [
    {
     "name": "stdout",
     "output_type": "stream",
     "text": [
      "         State  County  Rate       Date\n",
      "0  Mississippi  Newton   6.1 2015-02-01\n",
      "1  Mississippi  Panola   9.4 2015-02-01\n",
      "2  Mississippi  Monroe   7.9 2015-02-01\n",
      "3  Mississippi   Hinds   6.1 2015-02-01\n",
      "4  Mississippi  Kemper  10.6 2015-02-01\n",
      "State     26568\n",
      "County     1523\n",
      "dtype: int64\n"
     ]
    }
   ],
   "source": [
    "# Clean Data\n",
    "df['County'] = df.County.str.replace(' County', '')\n",
    "print(df.head())\n",
    "print(np.sum(df[['State', 'County']].isin({'County':['Newton'], 'State':['Mississippi']})))"
   ]
  },
  {
   "cell_type": "code",
   "execution_count": 9,
   "metadata": {
    "pycharm": {
     "name": "#%%\n"
    }
   },
   "outputs": [
    {
     "name": "stdout",
     "output_type": "stream",
     "text": [
      "State     82\n",
      "County     6\n",
      "dtype: int64\n"
     ]
    }
   ],
   "source": [
    "print(np.sum(c_map[['State', 'County']].isin({'County':['Newton'], 'State':['Mississippi']})))"
   ]
  },
  {
   "cell_type": "code",
   "execution_count": 10,
   "metadata": {
    "pycharm": {
     "name": "#%%\n"
    }
   },
   "outputs": [
    {
     "name": "stdout",
     "output_type": "stream",
     "text": [
      "Unique Counties in Data: (1752,)\n",
      "Uniqeu counties in SHP: (1806,)\n"
     ]
    }
   ],
   "source": [
    "print('Unique Counties in Data: '+ str(np.array(df['County'].unique()).shape))\n",
    "print('Uniqeu counties in SHP: '+ str(np.array(c_map['County'].unique()).shape))"
   ]
  },
  {
   "cell_type": "markdown",
   "metadata": {
    "pycharm": {
     "name": "#%% md\n"
    }
   },
   "source": [
    "### Plot with Slider"
   ]
  },
  {
   "cell_type": "code",
   "execution_count": 11,
   "metadata": {},
   "outputs": [
    {
     "name": "stdout",
     "output_type": "stream",
     "text": [
      "         State  County  Rate       Date\n",
      "0  Mississippi  Newton   6.1 2015-02-01\n",
      "1  Mississippi  Panola   9.4 2015-02-01\n",
      "2  Mississippi  Monroe   7.9 2015-02-01\n",
      "3  Mississippi   Hinds   6.1 2015-02-01\n",
      "4  Mississippi  Kemper  10.6 2015-02-01\n"
     ]
    }
   ],
   "source": [
    "print(df.head())"
   ]
  },
  {
   "cell_type": "code",
   "execution_count": 18,
   "metadata": {
    "pycharm": {
     "name": "#%%\n"
    }
   },
   "outputs": [],
   "source": [
    "months = [\"January\", \"February\", \"March\",\"April\", \"May\", \"June\", \"July\", \"August\",\"September\", \"October\",\"November\" , \"December\" ]\n",
    "\n",
    "def plotmap(y, m):\n",
    "    fig, ax = plt.subplots(1, figsize=(20,20))\n",
    "    div = make_axes_locatable(ax)\n",
    "    cax = div.append_axes(\"right\", size=\"5%\", pad=0.1)\n",
    "    c_map.boundary.plot(ax=ax, markersize=0.0001, zorder=1)\n",
    "    new = geo.geodataframe.GeoDataFrame(c_map.merge(df[(df.Date.dt.year == y) & (df.Date.dt.month == m)], on=['County', 'State'], how='left'), geometry='geometry')\n",
    "    new.plot(column='Rate', ax=ax, legend=True, cax=cax, cmap='inferno', zorder=2)\n",
    "\n"
   ]
  },
  {
   "cell_type": "code",
   "execution_count": 24,
   "metadata": {},
   "outputs": [
    {
     "data": {
      "application/vnd.jupyter.widget-view+json": {
       "model_id": "ff9ab6d43b914a7096cbd312f56f9734",
       "version_major": 2,
       "version_minor": 0
      },
      "text/plain": [
       "interactive(children=(IntSlider(value=1990, continuous_update=False, description='Year', max=2016, min=1990), …"
      ]
     },
     "metadata": {},
     "output_type": "display_data"
    },
    {
     "data": {
      "application/vnd.jupyter.widget-view+json": {
       "model_id": "537df002f5fc4a8da21d63eac88d981e",
       "version_major": 2,
       "version_minor": 0
      },
      "text/plain": [
       "HBox(children=(Play(value=1990, description='Press play', interval=500, max=2016, min=1990), IntSlider(value=1…"
      ]
     },
     "metadata": {},
     "output_type": "display_data"
    }
   ],
   "source": [
    "# slider = widgets.IntSlider(min=1, max=(np.max(df.Date.dt.year)-np.min(df.Date.dt.year))*12)\n",
    "\n",
    "year_s = widgets.IntSlider(min=np.min(df.Date.dt.year), max=np.max(df.Date.dt.year), description=\"Year\", continuous_update=False)\n",
    "mon_s = widgets.IntSlider(min=1, max=12, description=\"Month\")\n",
    "play = widgets.Play(\n",
    "    value=1990,\n",
    "    min=1990,\n",
    "    max=2016,\n",
    "    step=1,\n",
    "    interval=500,\n",
    "    description=\"Press play\",\n",
    "    disabled=False\n",
    ")\n",
    "widgets.jslink((play, 'value'), (year_s, 'value'))\n",
    "widgets.interact(plotmap, y=year_s, m=mon_s)\n",
    "widgets.HBox([play, year_s])"
   ]
  },
  {
   "cell_type": "code",
   "execution_count": null,
   "metadata": {},
   "outputs": [],
   "source": []
  }
 ],
 "metadata": {
  "kernelspec": {
   "display_name": "Python 3",
   "language": "python",
   "name": "python3"
  },
  "language_info": {
   "codemirror_mode": {
    "name": "ipython",
    "version": 3
   },
   "file_extension": ".py",
   "mimetype": "text/x-python",
   "name": "python",
   "nbconvert_exporter": "python",
   "pygments_lexer": "ipython3",
   "version": "3.8.5"
  }
 },
 "nbformat": 4,
 "nbformat_minor": 4
}
