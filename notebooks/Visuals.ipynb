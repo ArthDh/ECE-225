{
 "cells": [
  {
   "cell_type": "code",
   "execution_count": 1,
   "metadata": {
    "pycharm": {
     "name": "#%%\n"
    }
   },
   "outputs": [
    {
     "ename": "ImportError",
     "evalue": "DLL load failed while importing ogrext: %1 is not a valid Win32 application.",
     "output_type": "error",
     "traceback": [
      "\u001b[1;31m---------------------------------------------------------------------------\u001b[0m",
      "\u001b[1;31mImportError\u001b[0m                               Traceback (most recent call last)",
      "\u001b[1;32m<ipython-input-1-1dfb798b7c71>\u001b[0m in \u001b[0;36m<module>\u001b[1;34m\u001b[0m\n\u001b[0;32m     11\u001b[0m \u001b[1;32mfrom\u001b[0m \u001b[0mdatetime\u001b[0m \u001b[1;32mimport\u001b[0m \u001b[0mdatetime\u001b[0m\u001b[1;33m\u001b[0m\u001b[1;33m\u001b[0m\u001b[0m\n\u001b[0;32m     12\u001b[0m \u001b[1;33m\u001b[0m\u001b[0m\n\u001b[1;32m---> 13\u001b[1;33m \u001b[1;32mimport\u001b[0m \u001b[0mgeopandas\u001b[0m \u001b[1;32mas\u001b[0m \u001b[0mgeo\u001b[0m\u001b[1;33m\u001b[0m\u001b[1;33m\u001b[0m\u001b[0m\n\u001b[0m\u001b[0;32m     14\u001b[0m \u001b[1;32mimport\u001b[0m \u001b[0mpysal\u001b[0m \u001b[1;32mas\u001b[0m \u001b[0mps\u001b[0m\u001b[1;33m\u001b[0m\u001b[1;33m\u001b[0m\u001b[0m\n\u001b[0;32m     15\u001b[0m \u001b[1;33m\u001b[0m\u001b[0m\n",
      "\u001b[1;32m~\\miniconda3\\lib\\site-packages\\geopandas\\__init__.py\u001b[0m in \u001b[0;36m<module>\u001b[1;34m\u001b[0m\n\u001b[0;32m      3\u001b[0m \u001b[1;32mfrom\u001b[0m \u001b[0mgeopandas\u001b[0m\u001b[1;33m.\u001b[0m\u001b[0marray\u001b[0m \u001b[1;32mimport\u001b[0m \u001b[0m_points_from_xy\u001b[0m \u001b[1;32mas\u001b[0m \u001b[0mpoints_from_xy\u001b[0m  \u001b[1;31m# noqa\u001b[0m\u001b[1;33m\u001b[0m\u001b[1;33m\u001b[0m\u001b[0m\n\u001b[0;32m      4\u001b[0m \u001b[1;33m\u001b[0m\u001b[0m\n\u001b[1;32m----> 5\u001b[1;33m \u001b[1;32mfrom\u001b[0m \u001b[0mgeopandas\u001b[0m\u001b[1;33m.\u001b[0m\u001b[0mio\u001b[0m\u001b[1;33m.\u001b[0m\u001b[0mfile\u001b[0m \u001b[1;32mimport\u001b[0m \u001b[0mread_file\u001b[0m  \u001b[1;31m# noqa\u001b[0m\u001b[1;33m\u001b[0m\u001b[1;33m\u001b[0m\u001b[0m\n\u001b[0m\u001b[0;32m      6\u001b[0m \u001b[1;32mfrom\u001b[0m \u001b[0mgeopandas\u001b[0m\u001b[1;33m.\u001b[0m\u001b[0mio\u001b[0m\u001b[1;33m.\u001b[0m\u001b[0msql\u001b[0m \u001b[1;32mimport\u001b[0m \u001b[0mread_postgis\u001b[0m  \u001b[1;31m# noqa\u001b[0m\u001b[1;33m\u001b[0m\u001b[1;33m\u001b[0m\u001b[0m\n\u001b[0;32m      7\u001b[0m \u001b[1;32mfrom\u001b[0m \u001b[0mgeopandas\u001b[0m\u001b[1;33m.\u001b[0m\u001b[0mtools\u001b[0m \u001b[1;32mimport\u001b[0m \u001b[0msjoin\u001b[0m  \u001b[1;31m# noqa\u001b[0m\u001b[1;33m\u001b[0m\u001b[1;33m\u001b[0m\u001b[0m\n",
      "\u001b[1;32m~\\miniconda3\\lib\\site-packages\\geopandas\\io\\file.py\u001b[0m in \u001b[0;36m<module>\u001b[1;34m\u001b[0m\n\u001b[0;32m      4\u001b[0m \u001b[1;32mimport\u001b[0m \u001b[0msix\u001b[0m\u001b[1;33m\u001b[0m\u001b[1;33m\u001b[0m\u001b[0m\n\u001b[0;32m      5\u001b[0m \u001b[1;33m\u001b[0m\u001b[0m\n\u001b[1;32m----> 6\u001b[1;33m \u001b[1;32mimport\u001b[0m \u001b[0mfiona\u001b[0m\u001b[1;33m\u001b[0m\u001b[1;33m\u001b[0m\u001b[0m\n\u001b[0m\u001b[0;32m      7\u001b[0m \u001b[1;33m\u001b[0m\u001b[0m\n\u001b[0;32m      8\u001b[0m \u001b[1;32mfrom\u001b[0m \u001b[0mgeopandas\u001b[0m \u001b[1;32mimport\u001b[0m \u001b[0mGeoDataFrame\u001b[0m\u001b[1;33m,\u001b[0m \u001b[0mGeoSeries\u001b[0m\u001b[1;33m\u001b[0m\u001b[1;33m\u001b[0m\u001b[0m\n",
      "\u001b[1;32m~\\miniconda3\\lib\\site-packages\\fiona\\__init__.py\u001b[0m in \u001b[0;36m<module>\u001b[1;34m\u001b[0m\n\u001b[0;32m     81\u001b[0m     \u001b[0mos\u001b[0m\u001b[1;33m.\u001b[0m\u001b[0menviron\u001b[0m\u001b[1;33m[\u001b[0m\u001b[1;34m\"PATH\"\u001b[0m\u001b[1;33m]\u001b[0m \u001b[1;33m=\u001b[0m \u001b[0mos\u001b[0m\u001b[1;33m.\u001b[0m\u001b[0menviron\u001b[0m\u001b[1;33m[\u001b[0m\u001b[1;34m\"PATH\"\u001b[0m\u001b[1;33m]\u001b[0m \u001b[1;33m+\u001b[0m \u001b[1;34m\";\"\u001b[0m \u001b[1;33m+\u001b[0m \u001b[0mlibdir\u001b[0m\u001b[1;33m\u001b[0m\u001b[1;33m\u001b[0m\u001b[0m\n\u001b[0;32m     82\u001b[0m \u001b[1;33m\u001b[0m\u001b[0m\n\u001b[1;32m---> 83\u001b[1;33m \u001b[1;32mfrom\u001b[0m \u001b[0mfiona\u001b[0m\u001b[1;33m.\u001b[0m\u001b[0mcollection\u001b[0m \u001b[1;32mimport\u001b[0m \u001b[0mBytesCollection\u001b[0m\u001b[1;33m,\u001b[0m \u001b[0mCollection\u001b[0m\u001b[1;33m\u001b[0m\u001b[1;33m\u001b[0m\u001b[0m\n\u001b[0m\u001b[0;32m     84\u001b[0m \u001b[1;32mfrom\u001b[0m \u001b[0mfiona\u001b[0m\u001b[1;33m.\u001b[0m\u001b[0mdrvsupport\u001b[0m \u001b[1;32mimport\u001b[0m \u001b[0msupported_drivers\u001b[0m\u001b[1;33m\u001b[0m\u001b[1;33m\u001b[0m\u001b[0m\n\u001b[0;32m     85\u001b[0m \u001b[1;32mfrom\u001b[0m \u001b[0mfiona\u001b[0m\u001b[1;33m.\u001b[0m\u001b[0menv\u001b[0m \u001b[1;32mimport\u001b[0m \u001b[0mensure_env_with_credentials\u001b[0m\u001b[1;33m,\u001b[0m \u001b[0mEnv\u001b[0m\u001b[1;33m\u001b[0m\u001b[1;33m\u001b[0m\u001b[0m\n",
      "\u001b[1;32m~\\miniconda3\\lib\\site-packages\\fiona\\collection.py\u001b[0m in \u001b[0;36m<module>\u001b[1;34m\u001b[0m\n\u001b[0;32m      7\u001b[0m \u001b[1;33m\u001b[0m\u001b[0m\n\u001b[0;32m      8\u001b[0m \u001b[1;32mfrom\u001b[0m \u001b[0mfiona\u001b[0m \u001b[1;32mimport\u001b[0m \u001b[0mcompat\u001b[0m\u001b[1;33m,\u001b[0m \u001b[0mvfs\u001b[0m\u001b[1;33m\u001b[0m\u001b[1;33m\u001b[0m\u001b[0m\n\u001b[1;32m----> 9\u001b[1;33m \u001b[1;32mfrom\u001b[0m \u001b[0mfiona\u001b[0m\u001b[1;33m.\u001b[0m\u001b[0mogrext\u001b[0m \u001b[1;32mimport\u001b[0m \u001b[0mIterator\u001b[0m\u001b[1;33m,\u001b[0m \u001b[0mItemsIterator\u001b[0m\u001b[1;33m,\u001b[0m \u001b[0mKeysIterator\u001b[0m\u001b[1;33m\u001b[0m\u001b[1;33m\u001b[0m\u001b[0m\n\u001b[0m\u001b[0;32m     10\u001b[0m \u001b[1;32mfrom\u001b[0m \u001b[0mfiona\u001b[0m\u001b[1;33m.\u001b[0m\u001b[0mogrext\u001b[0m \u001b[1;32mimport\u001b[0m \u001b[0mSession\u001b[0m\u001b[1;33m,\u001b[0m \u001b[0mWritingSession\u001b[0m\u001b[1;33m\u001b[0m\u001b[1;33m\u001b[0m\u001b[0m\n\u001b[0;32m     11\u001b[0m \u001b[1;32mfrom\u001b[0m \u001b[0mfiona\u001b[0m\u001b[1;33m.\u001b[0m\u001b[0mogrext\u001b[0m \u001b[1;32mimport\u001b[0m \u001b[0mbuffer_to_virtual_file\u001b[0m\u001b[1;33m,\u001b[0m \u001b[0mremove_virtual_file\u001b[0m\u001b[1;33m,\u001b[0m \u001b[0mGEOMETRY_TYPES\u001b[0m\u001b[1;33m\u001b[0m\u001b[1;33m\u001b[0m\u001b[0m\n",
      "\u001b[1;31mImportError\u001b[0m: DLL load failed while importing ogrext: %1 is not a valid Win32 application."
     ]
    }
   ],
   "source": [
    "import os\n",
    "# import mapclassify\n",
    "import numpy as np\n",
    "import pandas as pd\n",
    "from pathlib import Path\n",
    "import matplotlib.pyplot as plt\n",
    "\n",
    "import ipywidgets as widgets\n",
    "from IPython.display import display\n",
    "from mpl_toolkits.axes_grid1 import make_axes_locatable\n",
    "from datetime import datetime\n",
    "\n",
    "import geopandas as geo\n",
    "import pysal as ps\n",
    "\n",
    "\n",
    "%matplotlib inline"
   ]
  },
  {
   "cell_type": "markdown",
   "metadata": {},
   "source": [
    "#### Import Dataset"
   ]
  },
  {
   "cell_type": "code",
   "execution_count": null,
   "metadata": {
    "pycharm": {
     "name": "#%%\n"
    }
   },
   "outputs": [],
   "source": [
    "root = 'C:/Users/Aaron/PycharmProjects/ECE-225'\n",
    "data_path = Path(root + '/data/output.csv')\n",
    "df = pd.read_csv(data_path)\n",
    "print('Rate Max: ' + str(df.loc[:,'Rate'].max()))\n",
    "print('Rate Min.: ' + str(df.loc[:,'Rate'].min()))\n",
    "print('Rate Mean: ' + str(df.loc[:,'Rate'].mean()))\n",
    "print('Rate Std.: ' + str(df.loc[:,'Rate'].std()))   \n",
    "\n",
    "# df.loc[:,'Rate'] = ((df.loc[:,'Rate']-df.loc[:,'Rate'].mean())/df.loc[:,'Rate'].std())"
   ]
  },
  {
   "cell_type": "code",
   "execution_count": null,
   "metadata": {},
   "outputs": [],
   "source": [
    "df['Date'] = df.apply(lambda x: x.Month+' '+str(x.Year), axis=1)\n",
    "df.Date = pd.to_datetime(df.Date)"
   ]
  },
  {
   "cell_type": "code",
   "execution_count": null,
   "metadata": {},
   "outputs": [],
   "source": [
    "df.drop(columns=['Year', 'Month'], inplace=True)"
   ]
  },
  {
   "cell_type": "code",
   "execution_count": null,
   "metadata": {
    "pycharm": {
     "name": "#%%\n"
    }
   },
   "outputs": [],
   "source": [
    "df.head()"
   ]
  },
  {
   "cell_type": "markdown",
   "metadata": {
    "pycharm": {
     "name": "#%% md\n"
    }
   },
   "source": [
    "#### Import .shp file data for counties"
   ]
  },
  {
   "cell_type": "code",
   "execution_count": null,
   "metadata": {
    "pycharm": {
     "name": "#%%\n"
    }
   },
   "outputs": [],
   "source": [
    "shp_counties = Path(root + \"/data/UScounties/uscounties.shp\")\n",
    "\n",
    "c_map = geo.read_file(shp_counties)\n",
    "c_map = c_map[c_map.STATE_NAME != 'Alaska']\n",
    "c_map = c_map[c_map.STATE_NAME != 'Hawaii']\n",
    "c_map.rename(columns={'NAME':'County', 'STATE_NAME':'State'}, inplace=True)\n",
    "c_map.drop(columns=['STATE_FIPS', 'CNTY_FIPS', 'FIPS'], inplace=True)\n",
    "\n",
    "df.convert_dtypes()\n",
    "c_map.convert_dtypes()\n"
   ]
  },
  {
   "cell_type": "code",
   "execution_count": null,
   "metadata": {
    "pycharm": {
     "name": "#%%\n"
    }
   },
   "outputs": [],
   "source": [
    "c_map.head()"
   ]
  },
  {
   "cell_type": "code",
   "execution_count": null,
   "metadata": {
    "pycharm": {
     "name": "#%%\n"
    }
   },
   "outputs": [],
   "source": [
    "# Clean Data\n",
    "df['County'] = df.County.str.replace(' County', '')\n",
    "print(df.head())\n",
    "print(np.sum(df[['State', 'County']].isin({'County':['Newton'], 'State':['Mississippi']})))"
   ]
  },
  {
   "cell_type": "code",
   "execution_count": null,
   "metadata": {
    "pycharm": {
     "name": "#%%\n"
    }
   },
   "outputs": [],
   "source": [
    "print(np.sum(c_map[['State', 'County']].isin({'County':['Newton'], 'State':['Mississippi']})))"
   ]
  },
  {
   "cell_type": "code",
   "execution_count": null,
   "metadata": {
    "pycharm": {
     "name": "#%%\n"
    }
   },
   "outputs": [],
   "source": [
    "print('Unique Counties in Data: '+ str(np.array(df['County'].unique()).shape))\n",
    "print('Uniqeu counties in SHP: '+ str(np.array(c_map['County'].unique()).shape))"
   ]
  },
  {
   "cell_type": "markdown",
   "metadata": {
    "pycharm": {
     "name": "#%% md\n"
    }
   },
   "source": [
    "### Plot with Slider"
   ]
  },
  {
   "cell_type": "code",
   "execution_count": null,
   "metadata": {},
   "outputs": [],
   "source": [
    "print(df.head())"
   ]
  },
  {
   "cell_type": "code",
   "execution_count": null,
   "metadata": {},
   "outputs": [],
   "source": [
    "def getPolyCoords(row, geom, coord_type):\n",
    "    \"\"\"Returns the coordinates ('x' or 'y') of edges of a Polygon exterior\n",
    "        Sources: https://automating-gis-processes.github.io/2016/Lesson5-interactive-map-bokeh.html\n",
    "                 https://stackoverflow.com/questions/55659835/trying-to-separate-polygon-data-into-x-and-y-coordinates-but-get-error-multip\n",
    "   \"\"\"\n",
    "    # Parse the geometries and grab the coordinate\n",
    "    geometry = row[geom]\n",
    "    #print(geometry.type)\n",
    "\n",
    "    if geometry.type=='Polygon':\n",
    "        if coord_type == 'x':\n",
    "            # Get the x coordinates of the exterior\n",
    "            # Interior is more complex: xxx.interiors[0].coords.xy[0]\n",
    "            return list( geometry.exterior.coords.xy[0] )\n",
    "        elif coord_type == 'y':\n",
    "            # Get the y coordinates of the exterior\n",
    "            return list( geometry.exterior.coords.xy[1] )\n",
    "\n",
    "    if geometry.type in ['Point', 'LineString']:\n",
    "        if coord_type == 'x':\n",
    "            return list( geometry.xy[0] )\n",
    "        elif coord_type == 'y':\n",
    "            return list( geometry.xy[1] )\n",
    "\n",
    "    if geometry.type=='MultiLineString':\n",
    "        all_xy = []\n",
    "        for ea in geometry:\n",
    "            if coord_type == 'x':\n",
    "                all_xy.append(list( ea.xy[0] ))\n",
    "            elif coord_type == 'y':\n",
    "                all_xy.append(list( ea.xy[1] ))\n",
    "        return all_xy\n",
    "\n",
    "    if geometry.type=='MultiPolygon':\n",
    "        all_xy = []\n",
    "        for ea in geometry:\n",
    "            if coord_type == 'x':\n",
    "                all_xy.append(list( ea.exterior.coords.xy[0] ))\n",
    "            elif coord_type == 'y':\n",
    "                all_xy.append(list( ea.exterior.coords.xy[1] ))\n",
    "        return all_xy\n",
    "\n",
    "    else:\n",
    "        # Finally, return empty list for unknown geometries\n",
    "        return []"
   ]
  },
  {
   "cell_type": "code",
   "execution_count": null,
   "metadata": {},
   "outputs": [],
   "source": [
    "# Bokeh Plot Imports\n",
    "\n",
    "from bokeh.palettes import RdYlBu11 as palette\n",
    "from bokeh.plotting import figure, output_file, show, save\n",
    "from bokeh.transform import linear_cmap\n",
    "from bokeh.models import ColumnDataSource, HoverTool, LogColorMapper, ColorBar\n",
    "from bokeh.io import output_notebook, push_notebook\n",
    "output_notebook()"
   ]
  },
  {
   "cell_type": "code",
   "execution_count": null,
   "metadata": {},
   "outputs": [],
   "source": [
    "# Bokeh map\n",
    "grid = c_map.copy()\n",
    "lines = c_map.copy()"
   ]
  },
  {
   "cell_type": "code",
   "execution_count": null,
   "metadata": {},
   "outputs": [],
   "source": [
    "# Process patches and lines for map\n",
    "\n",
    "grid['x'] = grid.apply(func=getPolyCoords, geom = 'geometry', coord_type='x', axis=1)\n",
    "grid['y'] = grid.apply(func=getPolyCoords, geom='geometry', coord_type='y', axis=1)\n",
    "\n",
    "lines['x'] = lines.apply(func=getPolyCoords, geom = 'geometry', coord_type='x', axis=1)\n",
    "lines['y'] = lines.apply(func=getPolyCoords, geom='geometry', coord_type='y', axis=1)\n",
    "\n",
    "#  Merge data with coordinates\n",
    "dg = geo.geodataframe.GeoDataFrame(grid.merge(df, on=['County', 'State']), geometry='geometry')\n",
    "\n",
    "g_df = dg[dg.Date==datetime(2011, 1, 1)].drop('geometry', axis=1).copy()\n",
    "m_df = lines.drop('geometry', axis=1).copy()\n",
    "\n",
    "msource = ColumnDataSource(m_df)\n",
    "gsource = ColumnDataSource(g_df)"
   ]
  },
  {
   "cell_type": "code",
   "execution_count": null,
   "metadata": {},
   "outputs": [],
   "source": [
    "print(g_df.head())"
   ]
  },
  {
   "cell_type": "code",
   "execution_count": null,
   "metadata": {},
   "outputs": [],
   "source": [
    "# Initialize our figure\n",
    "p = figure(title=\"Unemloyment Rates 2016 January\", plot_width=1300, plot_height=700, output_backend=\"webgl\")\n",
    "\n",
    "# Create the color mapper\n",
    "color_mapper = linear_cmap(field_name='Rate', palette=palette ,low=min(g_df.Rate) ,high=max(g_df.Rate))\n",
    "\n",
    "# Add Color Bar\n",
    "color_bar = ColorBar(color_mapper=color_mapper['transform'], width=8,  location=(0,0))\n",
    "p.add_layout(color_bar, 'right')\n",
    "\n",
    "# Add Hover Tool\n",
    "hov = HoverTool()\n",
    "hov.tooltips = [('County', '@County'), ('State', '@State'), ('Rate', '@Rate')]\n",
    "p.add_tools(hov)\n",
    "\n",
    "\n",
    "# Plot grid\n",
    "r = p.patches('x', 'y', source=gsource,\n",
    "         color=color_mapper,\n",
    "         fill_alpha=1.0, line_color=\"blue\", line_width=0.001)\n",
    "\n",
    "# Add boundaries to figure\n",
    "# p.multi_line('x', 'y', source=msource, color=\"red\", line_width=2)\n",
    "\n",
    "# # Save the figure\n",
    "# outfp = output_file(r\"C:/Users/Aaron/PycharmProjects/ECE-225/unemloyment_map.html\")\n",
    "# save(obj=p, title='unemloyment_map', filename=outfp)"
   ]
  },
  {
   "cell_type": "code",
   "execution_count": null,
   "metadata": {},
   "outputs": [],
   "source": [
    "def update_bokeh(y, m):\n",
    "    r.data_source.data = dg[dg.Date==datetime(y, m, 1)].drop('geometry', axis=1).copy()\n",
    "    p.title.text = 'Unemployment Rate %d-%02d'%(y, m)\n",
    "    push_notebook()"
   ]
  },
  {
   "cell_type": "code",
   "execution_count": null,
   "metadata": {},
   "outputs": [],
   "source": [
    "ye = widgets.IntSlider(min=np.min(df.Date.dt.year), max=np.max(df.Date.dt.year), description=\"Year\", continuous_update=False)\n",
    "mon = widgets.IntSlider(min=1, max=12, description=\"Month\")\n",
    "show(p, notebook_handle=True)"
   ]
  },
  {
   "cell_type": "code",
   "execution_count": null,
   "metadata": {},
   "outputs": [],
   "source": [
    "widgets.interact(update_bokeh, y=ye, m=mon)"
   ]
  },
  {
   "cell_type": "code",
   "execution_count": null,
   "metadata": {
    "pycharm": {
     "name": "#%%\n"
    }
   },
   "outputs": [],
   "source": [
    "months = [\"January\", \"February\", \"March\",\"April\", \"May\", \"June\", \"July\", \"August\",\"September\", \"October\",\"November\" , \"December\" ]\n",
    "# dg = geo.geodataframe.GeoDataFrame(c_map.merge(df, on=['County', 'State']), geometry='geometry')\n",
    "\n",
    "def plotmap(y, m):\n",
    "    fig, ax = plt.subplots(1, figsize=(20,20))\n",
    "    div = make_axes_locatable(ax)\n",
    "    cax = div.append_axes(\"right\", size=\"5%\", pad=0.1)\n",
    "    c_map.boundary.plot(ax=ax, markersize=0.0001, zorder=1)\n",
    "#     new = geo.geodataframe.GeoDataFrame(c_map.merge(df[(df.Date.dt.year == y) & (df.Date.dt.month == m)], on=['County', 'State'], how='left'), geometry='geometry')\n",
    "    dg[dg.Date==datetime(y, m, 1)].plot(column='Rate', ax=ax, legend=True, cax=cax, cmap='inferno', zorder=2)\n",
    "\n"
   ]
  },
  {
   "cell_type": "code",
   "execution_count": null,
   "metadata": {},
   "outputs": [],
   "source": [
    "# slider = widgets.IntSlider(min=1, max=(np.max(df.Date.dt.year)-np.min(df.Date.dt.year))*12)\n",
    "\n",
    "year_s = widgets.IntSlider(min=np.min(df.Date.dt.year), max=np.max(df.Date.dt.year), description=\"Year\", continuous_update=False)\n",
    "mon_s = widgets.IntSlider(min=1, max=12, description=\"Month\")\n",
    "play = widgets.Play(\n",
    "    value=1990,\n",
    "    min=1990,\n",
    "    max=2016,\n",
    "    step=1,\n",
    "    interval=500,\n",
    "    description=\"Press play\",\n",
    "    disabled=False\n",
    ")\n",
    "widgets.jslink((play, 'value'), (year_s, 'value'))\n",
    "widgets.interact(plotmap, y=year_s, m=mon_s)\n",
    "widgets.HBox([play, year_s])"
   ]
  },
  {
   "cell_type": "code",
   "execution_count": null,
   "metadata": {},
   "outputs": [],
   "source": [
    "# from arcgis.gis import GIS\n",
    "# from arcgis.geometry import Geometry\n",
    "# sdf = pd.DataFrame.spatial.from_featureclass(shp_counties)\n",
    "# sdf = sdf[sdf.STATE_NAME != 'Alaska']\n",
    "# sdf = sdf[sdf.STATE_NAME != 'Hawaii']\n",
    "# sdf.rename(columns={'NAME':'County', 'STATE_NAME':'State'}, inplace=True)\n",
    "# sdf.drop(columns=['STATE_FIPS', 'CNTY_FIPS', 'FIPS'], inplace=True)\n",
    "# sdf.tail()"
   ]
  },
  {
   "cell_type": "code",
   "execution_count": null,
   "metadata": {},
   "outputs": [],
   "source": [
    "# my_gis = GIS()\n",
    "# m = my_gis.map('United States')\n",
    "\n",
    "# df_g = sdf.merge(df, on=['County', 'State'])\n",
    "# # df_g = sdf.merge(df[(df.Date.dt.year == 2016) & (df.Date.dt.month == 1)], on=['County', 'State'], how='left')\n",
    "# print(df_g.shape)\n",
    "# print(df_g)\n",
    "# # df_g.head()"
   ]
  },
  {
   "cell_type": "code",
   "execution_count": null,
   "metadata": {},
   "outputs": [],
   "source": [
    "# df_g[df_g.Date == datetime(2016, 1, 1)]\n",
    "# df_layer[df_g.Date == datetime(2016, 1, 1)].spatial.plot(map_widget=m, col='Rate')\n",
    "# m"
   ]
  },
  {
   "cell_type": "code",
   "execution_count": null,
   "metadata": {},
   "outputs": [],
   "source": []
  }
 ],
 "metadata": {
  "kernelspec": {
   "display_name": "Python 3",
   "language": "python",
   "name": "python3"
  },
  "language_info": {
   "codemirror_mode": {
    "name": "ipython",
    "version": 3
   },
   "file_extension": ".py",
   "mimetype": "text/x-python",
   "name": "python",
   "nbconvert_exporter": "python",
   "pygments_lexer": "ipython3",
   "version": "3.8.5"
  }
 },
 "nbformat": 4,
 "nbformat_minor": 4
}
